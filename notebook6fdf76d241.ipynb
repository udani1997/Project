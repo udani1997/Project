{
 "cells": [
  {
   "cell_type": "code",
   "execution_count": 1,
   "id": "progressive-viewer",
   "metadata": {
    "execution": {
     "iopub.execute_input": "2021-06-24T20:32:57.402744Z",
     "iopub.status.busy": "2021-06-24T20:32:57.401158Z",
     "iopub.status.idle": "2021-06-24T20:32:57.429800Z",
     "shell.execute_reply": "2021-06-24T20:32:57.430691Z"
    },
    "jupyter": {
     "source_hidden": true
    },
    "papermill": {
     "duration": 0.042382,
     "end_time": "2021-06-24T20:32:57.431212",
     "exception": false,
     "start_time": "2021-06-24T20:32:57.388830",
     "status": "completed"
    },
    "tags": []
   },
   "outputs": [
    {
     "name": "stdout",
     "output_type": "stream",
     "text": [
      "/kaggle/input/dddddddddddd/README.md\n",
      "/kaggle/input/dddddddddddd/Capture.PNG\n"
     ]
    }
   ],
   "source": [
    "# This Python 3 environment comes with many helpful analytics libraries installed\n",
    "# It is defined by the kaggle/python Docker image: https://github.com/kaggle/docker-python\n",
    "# For example, here's several helpful packages to load\n",
    "\n",
    "import numpy as np # linear algebra\n",
    "import pandas as pd # data processing, CSV file I/O (e.g. pd.read_csv)\n",
    "\n",
    "# Input data files are available in the read-only \"../input/\" directory\n",
    "# For example, running this (by clicking run or pressing Shift+Enter) will list all files under the input directory\n",
    "\n",
    "import os\n",
    "for dirname, _, filenames in os.walk('/kaggle/input'):\n",
    "    for filename in filenames:\n",
    "        print(os.path.join(dirname, filename))\n",
    "\n",
    "# You can write up to 20GB to the current directory (/kaggle/working/) that gets preserved as output when you create a version using \"Save & Run All\" \n",
    "# You can also write temporary files to /kaggle/temp/, but they won't be saved outside of the current session"
   ]
  },
  {
   "cell_type": "code",
   "execution_count": null,
   "id": "designed-sympathy",
   "metadata": {
    "papermill": {
     "duration": 0.006375,
     "end_time": "2021-06-24T20:32:57.445716",
     "exception": false,
     "start_time": "2021-06-24T20:32:57.439341",
     "status": "completed"
    },
    "tags": []
   },
   "outputs": [],
   "source": []
  },
  {
   "cell_type": "code",
   "execution_count": 2,
   "id": "disabled-triumph",
   "metadata": {
    "execution": {
     "iopub.execute_input": "2021-06-24T20:32:57.464130Z",
     "iopub.status.busy": "2021-06-24T20:32:57.463059Z",
     "iopub.status.idle": "2021-06-24T20:32:57.541233Z",
     "shell.execute_reply": "2021-06-24T20:32:57.540576Z"
    },
    "papermill": {
     "duration": 0.088455,
     "end_time": "2021-06-24T20:32:57.541409",
     "exception": false,
     "start_time": "2021-06-24T20:32:57.452954",
     "status": "completed"
    },
    "tags": []
   },
   "outputs": [
    {
     "ename": "NameError",
     "evalue": "name 'gggggg' is not defined",
     "output_type": "error",
     "traceback": [
      "\u001b[0;31m---------------------------------------------------------------------------\u001b[0m",
      "\u001b[0;31mNameError\u001b[0m                                 Traceback (most recent call last)",
      "\u001b[0;32m<ipython-input-2-3a902230337f>\u001b[0m in \u001b[0;36m<module>\u001b[0;34m\u001b[0m\n\u001b[0;32m----> 1\u001b[0;31m \u001b[0mgggggg\u001b[0m\u001b[0;34m\u001b[0m\u001b[0;34m\u001b[0m\u001b[0m\n\u001b[0m",
      "\u001b[0;31mNameError\u001b[0m: name 'gggggg' is not defined"
     ]
    }
   ],
   "source": [
    "gggggg"
   ]
  },
  {
   "cell_type": "markdown",
   "id": "blessed-compact",
   "metadata": {
    "papermill": {
     "duration": 0.004646,
     "end_time": "2021-06-24T20:32:57.551173",
     "exception": false,
     "start_time": "2021-06-24T20:32:57.546527",
     "status": "completed"
    },
    "tags": []
   },
   "source": []
  }
 ],
 "metadata": {
  "kernelspec": {
   "display_name": "Python 3",
   "language": "python",
   "name": "python3"
  },
  "language_info": {
   "codemirror_mode": {
    "name": "ipython",
    "version": 3
   },
   "file_extension": ".py",
   "mimetype": "text/x-python",
   "name": "python",
   "nbconvert_exporter": "python",
   "pygments_lexer": "ipython3",
   "version": "3.7.10"
  },
  "papermill": {
   "default_parameters": {},
   "duration": 10.949517,
   "end_time": "2021-06-24T20:32:58.981859",
   "environment_variables": {},
   "exception": null,
   "input_path": "__notebook__.ipynb",
   "output_path": "__notebook__.ipynb",
   "parameters": {},
   "start_time": "2021-06-24T20:32:48.032342",
   "version": "2.3.3"
  }
 },
 "nbformat": 4,
 "nbformat_minor": 5
}

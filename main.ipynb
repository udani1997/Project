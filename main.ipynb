{
 "metadata": {
  "language_info": {
   "codemirror_mode": {
    "name": "ipython",
    "version": 3
   },
   "file_extension": ".py",
   "mimetype": "text/x-python",
   "name": "python",
   "nbconvert_exporter": "python",
   "pygments_lexer": "ipython3",
   "version": "3.7.9"
  },
  "orig_nbformat": 2,
  "kernelspec": {
   "name": "python379jvsc74a57bd0acb22a8b69de88320319ef34cebc68b783b44c7a14d82e341757e6edeba099a7",
   "display_name": "Python 3.7.9 64-bit ('cv': venv)"
  }
 },
 "nbformat": 4,
 "nbformat_minor": 2,
 "cells": [
  {
   "cell_type": "code",
   "execution_count": 182,
   "metadata": {},
   "outputs": [],
   "source": [
    "import pandas as pd\n",
    "from catboost import CatBoostClassifier\n",
    "from catboost import Pool\n",
    "from xgboost import XGBClassifier\n",
    "from sklearn.model_selection import train_test_split\n",
    "from sklearn.ensemble import RandomForestClassifier\n",
    "from sklearn.metrics import mean_absolute_error"
   ]
  },
  {
   "cell_type": "code",
   "execution_count": 183,
   "metadata": {},
   "outputs": [],
   "source": [
    "X = pd.read_csv('train_data.csv',index_col='ID')\n",
    "X_test = pd.read_csv('test_data.csv',index_col='ID')\n"
   ]
  },
  {
   "cell_type": "code",
   "execution_count": 184,
   "metadata": {},
   "outputs": [
    {
     "output_type": "execute_result",
     "data": {
      "text/plain": [
       "        parents     has_nurs        form children     housing     finance  \\\n",
       "ID                                                                          \n",
       "1         usual  less_proper    complete        3    critical  convenient   \n",
       "2   pretentious    very_crit   completed        1  convenient      inconv   \n",
       "3   pretentious       proper  incomplete        1   less_conv  convenient   \n",
       "4    great_pret     improper    complete        1  convenient  convenient   \n",
       "5    great_pret  less_proper   completed        1  convenient  convenient   \n",
       "\n",
       "           social       health  app_status  \n",
       "ID                                          \n",
       "1     problematic    not_recom           0  \n",
       "2         nonprob    not_recom           0  \n",
       "3   slightly_prob     priority           1  \n",
       "4         nonprob  recommended           1  \n",
       "5   slightly_prob     priority           1  "
      ],
      "text/html": "<div>\n<style scoped>\n    .dataframe tbody tr th:only-of-type {\n        vertical-align: middle;\n    }\n\n    .dataframe tbody tr th {\n        vertical-align: top;\n    }\n\n    .dataframe thead th {\n        text-align: right;\n    }\n</style>\n<table border=\"1\" class=\"dataframe\">\n  <thead>\n    <tr style=\"text-align: right;\">\n      <th></th>\n      <th>parents</th>\n      <th>has_nurs</th>\n      <th>form</th>\n      <th>children</th>\n      <th>housing</th>\n      <th>finance</th>\n      <th>social</th>\n      <th>health</th>\n      <th>app_status</th>\n    </tr>\n    <tr>\n      <th>ID</th>\n      <th></th>\n      <th></th>\n      <th></th>\n      <th></th>\n      <th></th>\n      <th></th>\n      <th></th>\n      <th></th>\n      <th></th>\n    </tr>\n  </thead>\n  <tbody>\n    <tr>\n      <th>1</th>\n      <td>usual</td>\n      <td>less_proper</td>\n      <td>complete</td>\n      <td>3</td>\n      <td>critical</td>\n      <td>convenient</td>\n      <td>problematic</td>\n      <td>not_recom</td>\n      <td>0</td>\n    </tr>\n    <tr>\n      <th>2</th>\n      <td>pretentious</td>\n      <td>very_crit</td>\n      <td>completed</td>\n      <td>1</td>\n      <td>convenient</td>\n      <td>inconv</td>\n      <td>nonprob</td>\n      <td>not_recom</td>\n      <td>0</td>\n    </tr>\n    <tr>\n      <th>3</th>\n      <td>pretentious</td>\n      <td>proper</td>\n      <td>incomplete</td>\n      <td>1</td>\n      <td>less_conv</td>\n      <td>convenient</td>\n      <td>slightly_prob</td>\n      <td>priority</td>\n      <td>1</td>\n    </tr>\n    <tr>\n      <th>4</th>\n      <td>great_pret</td>\n      <td>improper</td>\n      <td>complete</td>\n      <td>1</td>\n      <td>convenient</td>\n      <td>convenient</td>\n      <td>nonprob</td>\n      <td>recommended</td>\n      <td>1</td>\n    </tr>\n    <tr>\n      <th>5</th>\n      <td>great_pret</td>\n      <td>less_proper</td>\n      <td>completed</td>\n      <td>1</td>\n      <td>convenient</td>\n      <td>convenient</td>\n      <td>slightly_prob</td>\n      <td>priority</td>\n      <td>1</td>\n    </tr>\n  </tbody>\n</table>\n</div>"
     },
     "metadata": {},
     "execution_count": 184
    }
   ],
   "source": [
    "X.head()"
   ]
  },
  {
   "cell_type": "code",
   "execution_count": 185,
   "metadata": {},
   "outputs": [],
   "source": [
    "y = X.app_status\n",
    "X.drop(['app_status'],axis=1,inplace=True)"
   ]
  },
  {
   "cell_type": "code",
   "execution_count": 186,
   "metadata": {},
   "outputs": [
    {
     "output_type": "execute_result",
     "data": {
      "text/plain": [
       "        parents     has_nurs        form children     housing     finance  \\\n",
       "ID                                                                          \n",
       "1         usual  less_proper    complete        3    critical  convenient   \n",
       "2   pretentious    very_crit   completed        1  convenient      inconv   \n",
       "3   pretentious       proper  incomplete        1   less_conv  convenient   \n",
       "4    great_pret     improper    complete        1  convenient  convenient   \n",
       "5    great_pret  less_proper   completed        1  convenient  convenient   \n",
       "\n",
       "           social       health  \n",
       "ID                              \n",
       "1     problematic    not_recom  \n",
       "2         nonprob    not_recom  \n",
       "3   slightly_prob     priority  \n",
       "4         nonprob  recommended  \n",
       "5   slightly_prob     priority  "
      ],
      "text/html": "<div>\n<style scoped>\n    .dataframe tbody tr th:only-of-type {\n        vertical-align: middle;\n    }\n\n    .dataframe tbody tr th {\n        vertical-align: top;\n    }\n\n    .dataframe thead th {\n        text-align: right;\n    }\n</style>\n<table border=\"1\" class=\"dataframe\">\n  <thead>\n    <tr style=\"text-align: right;\">\n      <th></th>\n      <th>parents</th>\n      <th>has_nurs</th>\n      <th>form</th>\n      <th>children</th>\n      <th>housing</th>\n      <th>finance</th>\n      <th>social</th>\n      <th>health</th>\n    </tr>\n    <tr>\n      <th>ID</th>\n      <th></th>\n      <th></th>\n      <th></th>\n      <th></th>\n      <th></th>\n      <th></th>\n      <th></th>\n      <th></th>\n    </tr>\n  </thead>\n  <tbody>\n    <tr>\n      <th>1</th>\n      <td>usual</td>\n      <td>less_proper</td>\n      <td>complete</td>\n      <td>3</td>\n      <td>critical</td>\n      <td>convenient</td>\n      <td>problematic</td>\n      <td>not_recom</td>\n    </tr>\n    <tr>\n      <th>2</th>\n      <td>pretentious</td>\n      <td>very_crit</td>\n      <td>completed</td>\n      <td>1</td>\n      <td>convenient</td>\n      <td>inconv</td>\n      <td>nonprob</td>\n      <td>not_recom</td>\n    </tr>\n    <tr>\n      <th>3</th>\n      <td>pretentious</td>\n      <td>proper</td>\n      <td>incomplete</td>\n      <td>1</td>\n      <td>less_conv</td>\n      <td>convenient</td>\n      <td>slightly_prob</td>\n      <td>priority</td>\n    </tr>\n    <tr>\n      <th>4</th>\n      <td>great_pret</td>\n      <td>improper</td>\n      <td>complete</td>\n      <td>1</td>\n      <td>convenient</td>\n      <td>convenient</td>\n      <td>nonprob</td>\n      <td>recommended</td>\n    </tr>\n    <tr>\n      <th>5</th>\n      <td>great_pret</td>\n      <td>less_proper</td>\n      <td>completed</td>\n      <td>1</td>\n      <td>convenient</td>\n      <td>convenient</td>\n      <td>slightly_prob</td>\n      <td>priority</td>\n    </tr>\n  </tbody>\n</table>\n</div>"
     },
     "metadata": {},
     "execution_count": 186
    }
   ],
   "source": [
    "X.head()"
   ]
  },
  {
   "cell_type": "code",
   "execution_count": 187,
   "metadata": {},
   "outputs": [],
   "source": [
    "X_train,X_val,y_train,y_val = train_test_split(X,y,train_size=0.8,random_state=0)"
   ]
  },
  {
   "cell_type": "code",
   "execution_count": 188,
   "metadata": {},
   "outputs": [
    {
     "output_type": "execute_result",
     "data": {
      "text/plain": [
       "['parents',\n",
       " 'has_nurs',\n",
       " 'form',\n",
       " 'children',\n",
       " 'housing',\n",
       " 'finance',\n",
       " 'social',\n",
       " 'health']"
      ]
     },
     "metadata": {},
     "execution_count": 188
    }
   ],
   "source": [
    "[cname for cname in X_train.columns if X_train[cname].dtype == 'object']"
   ]
  },
  {
   "cell_type": "code",
   "execution_count": 189,
   "metadata": {},
   "outputs": [],
   "source": [
    "# One-hot encode the data (to shorten the code, we use pandas)\n",
    "X_train = pd.get_dummies(X_train)\n",
    "X_val = pd.get_dummies(X_val)\n",
    "X_test = pd.get_dummies(X_test)\n",
    "X_train, X_val = X_train.align(X_val, join='left', axis=1)\n",
    "X_train, X_test = X_train.align(X_test, join='left', axis=1)"
   ]
  },
  {
   "cell_type": "code",
   "execution_count": 190,
   "metadata": {},
   "outputs": [
    {
     "output_type": "execute_result",
     "data": {
      "text/plain": [
       "      parents_great_pret  parents_pretentious  parents_usual  \\\n",
       "ID                                                             \n",
       "5314                   1                    0              0   \n",
       "7741                   0                    1              0   \n",
       "1333                   1                    0              0   \n",
       "4520                   0                    0              1   \n",
       "8579                   0                    1              0   \n",
       "\n",
       "      has_nurs_critical  has_nurs_improper  has_nurs_less_proper  \\\n",
       "ID                                                                 \n",
       "5314                  0                  1                     0   \n",
       "7741                  0                  0                     0   \n",
       "1333                  1                  0                     0   \n",
       "4520                  0                  0                     0   \n",
       "8579                  0                  1                     0   \n",
       "\n",
       "      has_nurs_proper  has_nurs_very_crit  form_complete  form_completed  ...  \\\n",
       "ID                                                                        ...   \n",
       "5314                0                   0              0               0  ...   \n",
       "7741                1                   0              0               1  ...   \n",
       "1333                0                   0              1               0  ...   \n",
       "4520                1                   0              1               0  ...   \n",
       "8579                0                   0              1               0  ...   \n",
       "\n",
       "      housing_critical  housing_less_conv  finance_convenient  finance_inconv  \\\n",
       "ID                                                                              \n",
       "5314                 0                  0                   0               1   \n",
       "7741                 1                  0                   1               0   \n",
       "1333                 0                  1                   0               1   \n",
       "4520                 0                  1                   1               0   \n",
       "8579                 0                  0                   0               1   \n",
       "\n",
       "      social_nonprob  social_problematic  social_slightly_prob  \\\n",
       "ID                                                               \n",
       "5314               0                   1                     0   \n",
       "7741               0                   0                     1   \n",
       "1333               1                   0                     0   \n",
       "4520               0                   0                     1   \n",
       "8579               0                   0                     1   \n",
       "\n",
       "      health_not_recom  health_priority  health_recommended  \n",
       "ID                                                           \n",
       "5314                 0                1                   0  \n",
       "7741                 0                1                   0  \n",
       "1333                 0                0                   1  \n",
       "4520                 1                0                   0  \n",
       "8579                 0                1                   0  \n",
       "\n",
       "[5 rows x 27 columns]"
      ],
      "text/html": "<div>\n<style scoped>\n    .dataframe tbody tr th:only-of-type {\n        vertical-align: middle;\n    }\n\n    .dataframe tbody tr th {\n        vertical-align: top;\n    }\n\n    .dataframe thead th {\n        text-align: right;\n    }\n</style>\n<table border=\"1\" class=\"dataframe\">\n  <thead>\n    <tr style=\"text-align: right;\">\n      <th></th>\n      <th>parents_great_pret</th>\n      <th>parents_pretentious</th>\n      <th>parents_usual</th>\n      <th>has_nurs_critical</th>\n      <th>has_nurs_improper</th>\n      <th>has_nurs_less_proper</th>\n      <th>has_nurs_proper</th>\n      <th>has_nurs_very_crit</th>\n      <th>form_complete</th>\n      <th>form_completed</th>\n      <th>...</th>\n      <th>housing_critical</th>\n      <th>housing_less_conv</th>\n      <th>finance_convenient</th>\n      <th>finance_inconv</th>\n      <th>social_nonprob</th>\n      <th>social_problematic</th>\n      <th>social_slightly_prob</th>\n      <th>health_not_recom</th>\n      <th>health_priority</th>\n      <th>health_recommended</th>\n    </tr>\n    <tr>\n      <th>ID</th>\n      <th></th>\n      <th></th>\n      <th></th>\n      <th></th>\n      <th></th>\n      <th></th>\n      <th></th>\n      <th></th>\n      <th></th>\n      <th></th>\n      <th></th>\n      <th></th>\n      <th></th>\n      <th></th>\n      <th></th>\n      <th></th>\n      <th></th>\n      <th></th>\n      <th></th>\n      <th></th>\n      <th></th>\n    </tr>\n  </thead>\n  <tbody>\n    <tr>\n      <th>5314</th>\n      <td>1</td>\n      <td>0</td>\n      <td>0</td>\n      <td>0</td>\n      <td>1</td>\n      <td>0</td>\n      <td>0</td>\n      <td>0</td>\n      <td>0</td>\n      <td>0</td>\n      <td>...</td>\n      <td>0</td>\n      <td>0</td>\n      <td>0</td>\n      <td>1</td>\n      <td>0</td>\n      <td>1</td>\n      <td>0</td>\n      <td>0</td>\n      <td>1</td>\n      <td>0</td>\n    </tr>\n    <tr>\n      <th>7741</th>\n      <td>0</td>\n      <td>1</td>\n      <td>0</td>\n      <td>0</td>\n      <td>0</td>\n      <td>0</td>\n      <td>1</td>\n      <td>0</td>\n      <td>0</td>\n      <td>1</td>\n      <td>...</td>\n      <td>1</td>\n      <td>0</td>\n      <td>1</td>\n      <td>0</td>\n      <td>0</td>\n      <td>0</td>\n      <td>1</td>\n      <td>0</td>\n      <td>1</td>\n      <td>0</td>\n    </tr>\n    <tr>\n      <th>1333</th>\n      <td>1</td>\n      <td>0</td>\n      <td>0</td>\n      <td>1</td>\n      <td>0</td>\n      <td>0</td>\n      <td>0</td>\n      <td>0</td>\n      <td>1</td>\n      <td>0</td>\n      <td>...</td>\n      <td>0</td>\n      <td>1</td>\n      <td>0</td>\n      <td>1</td>\n      <td>1</td>\n      <td>0</td>\n      <td>0</td>\n      <td>0</td>\n      <td>0</td>\n      <td>1</td>\n    </tr>\n    <tr>\n      <th>4520</th>\n      <td>0</td>\n      <td>0</td>\n      <td>1</td>\n      <td>0</td>\n      <td>0</td>\n      <td>0</td>\n      <td>1</td>\n      <td>0</td>\n      <td>1</td>\n      <td>0</td>\n      <td>...</td>\n      <td>0</td>\n      <td>1</td>\n      <td>1</td>\n      <td>0</td>\n      <td>0</td>\n      <td>0</td>\n      <td>1</td>\n      <td>1</td>\n      <td>0</td>\n      <td>0</td>\n    </tr>\n    <tr>\n      <th>8579</th>\n      <td>0</td>\n      <td>1</td>\n      <td>0</td>\n      <td>0</td>\n      <td>1</td>\n      <td>0</td>\n      <td>0</td>\n      <td>0</td>\n      <td>1</td>\n      <td>0</td>\n      <td>...</td>\n      <td>0</td>\n      <td>0</td>\n      <td>0</td>\n      <td>1</td>\n      <td>0</td>\n      <td>0</td>\n      <td>1</td>\n      <td>0</td>\n      <td>1</td>\n      <td>0</td>\n    </tr>\n  </tbody>\n</table>\n<p>5 rows × 27 columns</p>\n</div>"
     },
     "metadata": {},
     "execution_count": 190
    }
   ],
   "source": [
    "X_train.head()"
   ]
  },
  {
   "cell_type": "code",
   "execution_count": 258,
   "metadata": {
    "tags": []
   },
   "outputs": [
    {
     "output_type": "stream",
     "name": "stderr",
     "text": [
      "c:\\Python37\\cv\\lib\\site-packages\\xgboost\\sklearn.py:1146: UserWarning: The use of label encoder in XGBClassifier is deprecated and will be removed in a future release. To remove this warning, do the following: 1) Pass option use_label_encoder=False when constructing XGBClassifier object; and 2) Encode your labels (y) as integers starting with 0, i.e. 0, 1, 2, ..., [num_class - 1].\n",
      "  warnings.warn(label_encoder_deprecation_msg, UserWarning)\n",
      "[02:11:26] WARNING: C:/Users/Administrator/workspace/xgboost-win64_release_1.4.0/src/learner.cc:1095: Starting in XGBoost 1.3.0, the default evaluation metric used with the objective 'binary:logistic' was changed from 'error' to 'logloss'. Explicitly set eval_metric if you'd like to restore the old behavior.\n"
     ]
    }
   ],
   "source": [
    "#xgboost\n",
    "\n",
    "model = XGBClassifier(n_estimators=50, learning_rate=0.05 )\n",
    "#model = RandomForestClassifier(n_estimators=100, random_state=0)\n",
    "model.fit(X_train,y_train)\n",
    "predictions = model.predict(X_val)\n",
    "#model = CatBoostClassifier(iterations=1000,learning_rate=0.01)\n",
    "#depth=1,random_state=3)\n",
    "# train_pool=Pool(data=X_train,label=y_train)\n",
    "# val_pool=Pool(data=X_val,label=y_val)\n",
    "# model.fit(train_pool)\n",
    "# predictions = model.predict(val_pool)\n",
    "\n",
    "\n",
    "\n"
   ]
  },
  {
   "cell_type": "code",
   "execution_count": 259,
   "metadata": {},
   "outputs": [
    {
     "output_type": "stream",
     "name": "stdout",
     "text": [
      "[[1320   13]\n [  39  702]]\n              precision    recall  f1-score   support\n\n           0       0.97      0.99      0.98      1333\n           1       0.98      0.95      0.96       741\n\n    accuracy                           0.97      2074\n   macro avg       0.98      0.97      0.97      2074\nweighted avg       0.98      0.97      0.97      2074\n\n"
     ]
    }
   ],
   "source": [
    "from sklearn.metrics import classification_report,confusion_matrix\n",
    "\n",
    "\n",
    "print(confusion_matrix(y_val,predictions))\n",
    "print(classification_report(y_val,predictions))"
   ]
  },
  {
   "cell_type": "code",
   "execution_count": 260,
   "metadata": {},
   "outputs": [
    {
     "output_type": "execute_result",
     "data": {
      "text/plain": [
       "0.9724846104860962"
      ]
     },
     "metadata": {},
     "execution_count": 260
    }
   ],
   "source": [
    "from sklearn.metrics import f1_score,auc,precision_recall_curve\n",
    "f1_score(y_val,predictions,average='macro')"
   ]
  },
  {
   "cell_type": "code",
   "execution_count": 261,
   "metadata": {},
   "outputs": [
    {
     "output_type": "stream",
     "name": "stdout",
     "text": [
      "0.9739954229397462\n"
     ]
    }
   ],
   "source": [
    "precision,recall,_ = precision_recall_curve(y_val,predictions)\n",
    "auc_score = auc(recall,precision)\n",
    "print(auc_score)"
   ]
  },
  {
   "cell_type": "code",
   "execution_count": 263,
   "metadata": {},
   "outputs": [],
   "source": [
    "preds_test = model.predict(X_test)\n",
    "output = pd.DataFrame({'ID': X_test.index,'app_status': preds_test})\n",
    "output.to_csv('Noob Hackers.csv',index=False)\n"
   ]
  },
  {
   "cell_type": "code",
   "execution_count": null,
   "metadata": {},
   "outputs": [],
   "source": []
  }
 ]
}